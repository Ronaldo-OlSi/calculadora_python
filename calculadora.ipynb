{
  "nbformat": 4,
  "nbformat_minor": 0,
  "metadata": {
    "colab": {
      "provenance": []
    },
    "kernelspec": {
      "name": "python3",
      "display_name": "Python 3"
    },
    "language_info": {
      "name": "python"
    }
  },
  "cells": [
    {
      "cell_type": "code",
      "execution_count": null,
      "metadata": {
        "id": "fhJMs43wsC6k"
      },
      "outputs": [],
      "source": [
        "# Calculadora\n",
        "\n",
        "while True:\n",
        "    print(\"\\n=== CALCULADORA  ===\")\n",
        "    print(\"[1] Soma (+)\")\n",
        "    print(\"[2] Subtração (-)\")\n",
        "    print(\"[3] Multiplicação (*)\")\n",
        "    print(\"[4] Divisão (/)\")\n",
        "    print(\"[5] Potência (**)\")\n",
        "    print(\"[6] Módulo (%)\")\n",
        "    print(\"[0] Sair\")\n",
        "\n",
        "    opcao = input(\"Escolha uma opção: \")\n",
        "\n",
        "    if opcao == \"0\":\n",
        "        print(\"Saindo... Até logo!\")\n",
        "        break\n",
        "\n",
        "    # entrada dos números\n",
        "    n1 = input(\"Digite o primeiro número: \").replace(\",\", \".\")\n",
        "    n2 = input(\"Digite o segundo número: \").replace(\",\", \".\")\n",
        "\n",
        "    # converte para float\n",
        "    n1 = float(n1)\n",
        "    n2 = float(n2)\n",
        "\n",
        "    if opcao == \"1\":\n",
        "        print(\"Resultado:\", n1, \"+\", n2, \"=\", n1 + n2)\n",
        "    elif opcao == \"2\":\n",
        "        print(\"Resultado:\", n1, \"-\", n2, \"=\", n1 - n2)\n",
        "    elif opcao == \"3\":\n",
        "        print(\"Resultado:\", n1, \"*\", n2, \"=\", n1 * n2)\n",
        "    elif opcao == \"4\":\n",
        "        if n2 == 0:\n",
        "            print(\"Erro: divisão por zero!\")\n",
        "        else:\n",
        "            print(\"Resultado:\", n1, \"/\", n2, \"=\", n1 / n2)\n",
        "    elif opcao == \"5\":\n",
        "        print(\"Resultado:\", n1, \"**\", n2, \"=\", n1 ** n2)\n",
        "    elif opcao == \"6\":\n",
        "        if n2 == 0:\n",
        "            print(\"Erro: módulo por zero!\")\n",
        "        else:\n",
        "            print(\"Resultado:\", n1, \"%\", n2, \"=\", n1 % n2)\n",
        "    else:\n",
        "        print(\"Opção inválida, tente novamente.\")"
      ]
    }
  ]
}